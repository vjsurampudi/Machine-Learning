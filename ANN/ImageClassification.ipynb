{
 "cells": [
  {
   "cell_type": "markdown",
   "metadata": {},
   "source": [
    "## Code to train a convolution network on images of cats and dogs\n",
    "Link to dataset: https://www.kaggle.com/chetankv/dogs-cats-images"
   ]
  },
  {
   "cell_type": "code",
   "execution_count": 1,
   "metadata": {},
   "outputs": [],
   "source": [
    "## CNN-section\n",
    "# Importing the necessary libraries\n",
    "from keras.models import Sequential\n",
    "from keras.layers import Dense\n",
    "from keras.layers import Convolution2D\n",
    "from keras.layers import MaxPooling2D\n",
    "from keras.layers import Flatten"
   ]
  },
  {
   "cell_type": "code",
   "execution_count": 2,
   "metadata": {},
   "outputs": [],
   "source": [
    "#Initializing the Architecture\n",
    "classifier = Sequential()"
   ]
  },
  {
   "cell_type": "code",
   "execution_count": 3,
   "metadata": {},
   "outputs": [],
   "source": [
    "#Adding the 1st Convolution Layer\n",
    "# 32 - feature detectors of size 3X3\n",
    "# input shape of image - 64X64 pixels and three channels = Red, Green and Blue\n",
    "classifier.add(Convolution2D(32, (3,3) , input_shape = (64,64,3), activation = 'relu'))"
   ]
  },
  {
   "cell_type": "code",
   "execution_count": 4,
   "metadata": {},
   "outputs": [],
   "source": [
    "#Adding the 1st Max Pooling layer\n",
    "classifier.add(MaxPooling2D(pool_size = (2,2), strides = 2))"
   ]
  },
  {
   "cell_type": "code",
   "execution_count": 5,
   "metadata": {},
   "outputs": [],
   "source": [
    "#Flattening the Max-pooled FMs\n",
    "classifier.add(Flatten())"
   ]
  },
  {
   "cell_type": "code",
   "execution_count": 6,
   "metadata": {},
   "outputs": [],
   "source": [
    "##ANN-Section\n",
    "#Adding the 1st Hidden Layer of the Ann\n",
    "classifier.add(Dense(units = 128, activation = 'relu', kernel_initializer = \"uniform\"))\n",
    "\n",
    "classifier.add(Dense(units = 1, activation =\"sigmoid\", kernel_initializer = \"uniform\"))\n",
    "\n",
    "classifier.compile(optimizer = 'adam', loss = 'binary_crossentropy', metrics =['accuracy'])"
   ]
  },
  {
   "cell_type": "code",
   "execution_count": 7,
   "metadata": {},
   "outputs": [],
   "source": [
    "#Image Augmentation\n",
    "from keras.preprocessing.image import ImageDataGenerator"
   ]
  },
  {
   "cell_type": "markdown",
   "metadata": {},
   "source": [
    "The code block below performs data augmentation techniques - rescale, shear, zoom and flip. \n",
    "Refer to the link for more explanation: https://fairyonice.github.io/Learn-about-ImageDataGenerator.html"
   ]
  },
  {
   "cell_type": "code",
   "execution_count": 8,
   "metadata": {},
   "outputs": [
    {
     "name": "stdout",
     "output_type": "stream",
     "text": [
      "Found 8000 images belonging to 2 classes.\n",
      "Found 2000 images belonging to 2 classes.\n"
     ]
    }
   ],
   "source": [
    "train_datagen = ImageDataGenerator(\n",
    "        rescale = 1./255,\n",
    "        shear_range = 0.2,\n",
    "        zoom_range = 0.2,\n",
    "        horizontal_flip = True\n",
    "        )\n",
    "\n",
    "\n",
    "test_datagen = ImageDataGenerator(rescale = 1./255)\n",
    "\n",
    "training_set = train_datagen.flow_from_directory(\n",
    "            'Dataset/training_set',\n",
    "            target_size = (64,64),\n",
    "            batch_size = 32,\n",
    "            class_mode = 'binary'\n",
    "            )\n",
    "\n",
    "test_set = test_datagen.flow_from_directory(\n",
    "            'Dataset/test_set',\n",
    "            target_size = (64,64),\n",
    "            batch_size = 32,\n",
    "            class_mode = 'binary'\n",
    "            )"
   ]
  },
  {
   "cell_type": "code",
   "execution_count": 11,
   "metadata": {},
   "outputs": [
    {
     "name": "stderr",
     "output_type": "stream",
     "text": [
      "C:\\Users\\vsurampu\\Anaconda3\\lib\\site-packages\\tensorflow\\python\\keras\\engine\\training.py:1844: UserWarning: `Model.fit_generator` is deprecated and will be removed in a future version. Please use `Model.fit`, which supports generators.\n",
      "  warnings.warn('`Model.fit_generator` is deprecated and '\n"
     ]
    },
    {
     "name": "stdout",
     "output_type": "stream",
     "text": [
      "Epoch 1/2\n",
      " 250/8000 [..............................] - ETA: 26:05 - loss: 0.5291 - accuracy: 0.7325WARNING:tensorflow:Your input ran out of data; interrupting training. Make sure that your dataset or generator can generate at least `steps_per_epoch * epochs` batches (in this case, 16000 batches). You may need to use the repeat() function when building your dataset.\n",
      "WARNING:tensorflow:Your input ran out of data; interrupting training. Make sure that your dataset or generator can generate at least `steps_per_epoch * epochs` batches (in this case, 100 batches). You may need to use the repeat() function when building your dataset.\n",
      "8000/8000 [==============================] - 60s 8ms/step - loss: 0.5291 - accuracy: 0.7325 - val_loss: 0.6067 - val_accuracy: 0.6835\n",
      "{'cats': 0, 'dogs': 1}\n",
      "INFO:tensorflow:Assets written to: catsdogs_trial.sav\\assets\n"
     ]
    }
   ],
   "source": [
    "##Training\n",
    "\n",
    "classifier.fit_generator(\n",
    "        training_set,\n",
    "        steps_per_epoch=8000,\n",
    "        epochs=2,\n",
    "        validation_data=test_set,\n",
    "        validation_steps=100)\n",
    "\n",
    "print(training_set.class_indices)\n",
    "\n",
    "def save(self,save_path):\n",
    "    self.keras_model.save(save_path)\n",
    "\n",
    "\n",
    "classifier.save('catsdogs_trial.sav')"
   ]
  },
  {
   "cell_type": "code",
   "execution_count": 26,
   "metadata": {},
   "outputs": [],
   "source": [
    "### Loading the saved model\n",
    "from keras.models import load_model\n",
    "filename = 'catsdogs_trial.sav'\n",
    "model = load_model(filename)"
   ]
  },
  {
   "cell_type": "code",
   "execution_count": 28,
   "metadata": {},
   "outputs": [
    {
     "name": "stdout",
     "output_type": "stream",
     "text": [
      "{'cats': 0, 'dogs': 1}\n",
      "CAT\n"
     ]
    }
   ],
   "source": [
    "## Testing the model with an image\n",
    "\n",
    "import numpy as np\n",
    "from keras.preprocessing import image\n",
    "my_image = image.load_img('Dataset/cat.4014.jpg', target_size = (64,64,3))\n",
    "my_image = image.img_to_array(my_image)\n",
    "my_image = np.expand_dims(my_image, axis = 0)\n",
    "print(training_set.class_indices)\n",
    "\n",
    "x = model.predict(my_image)\n",
    "\n",
    "if model.predict(my_image) > 0.5:\n",
    "    print('DOG')\n",
    "else:\n",
    "    print('CAT')"
   ]
  }
 ],
 "metadata": {
  "kernelspec": {
   "display_name": "Python 3",
   "language": "python",
   "name": "python3"
  },
  "language_info": {
   "codemirror_mode": {
    "name": "ipython",
    "version": 3
   },
   "file_extension": ".py",
   "mimetype": "text/x-python",
   "name": "python",
   "nbconvert_exporter": "python",
   "pygments_lexer": "ipython3",
   "version": "3.8.5"
  }
 },
 "nbformat": 4,
 "nbformat_minor": 4
}
